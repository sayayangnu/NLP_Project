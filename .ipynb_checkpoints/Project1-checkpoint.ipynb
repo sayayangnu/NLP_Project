{
 "cells": [
  {
   "cell_type": "markdown",
   "metadata": {},
   "source": [
    "# Project 1. Sentiment Analysis"
   ]
  },
  {
   "cell_type": "markdown",
   "metadata": {},
   "source": [
    "## Task 1. Exploratory Data Analysis"
   ]
  },
  {
   "cell_type": "code",
   "execution_count": 60,
   "metadata": {},
   "outputs": [],
   "source": [
    "# import packages\n",
    "import pandas as pd\n",
    "import numpy as np\n",
    "import pprint as pp\n",
    "import preprocessor as p\n",
    "import re\n",
    "from nltk.util import ngrams\n",
    "from nltk.tokenize import TweetTokenizer\n",
    "from nltk.stem import WordNetLemmatizer\n",
    "from nltk.corpus import stopwords \n",
    "from collections import Counter\n",
    "import matplotlib.pyplot as plt\n",
    "from nltk.stem.porter import *\n",
    "import emoji\n",
    "import enchant\n",
    "import warnings\n",
    "\n",
    "warnings.filterwarnings('ignore')"
   ]
  },
  {
   "cell_type": "code",
   "execution_count": 4,
   "metadata": {},
   "outputs": [],
   "source": [
    "# Function: Load Data\n",
    "def load_data(data):\n",
    "    # Read in the txt file and turn into a pandas df \n",
    "    ids = []\n",
    "    labels = []\n",
    "    texts = []\n",
    "    with open(data, 'r') as f:\n",
    "        for line in f:\n",
    "            if line.strip():\n",
    "                fields = line.lower().strip().split(\"\\t\")\n",
    "                ids.append(fields[0])\n",
    "                labels.append(fields[1])\n",
    "                texts.append(fields[2])\n",
    "        df = pd.DataFrame(\n",
    "    {'id': ids,\n",
    "     'label': labels,\n",
    "     'text': texts\n",
    "    })\n",
    "    return df"
   ]
  },
  {
   "cell_type": "code",
   "execution_count": 5,
   "metadata": {},
   "outputs": [],
   "source": [
    "# Function: Clean Tweet\n",
    "def clean_tweet(text):\n",
    "    # Write a function to clean emojis, smileys, mentions, punctuations & urls\n",
    "    p.set_options(p.OPT.URL, p.OPT.MENTION, p.OPT.EMOJI,p.OPT.SMILEY,p.OPT.HASHTAG)\n",
    "    clean_text = re.sub(r'[^a-zA-Z0-9\\s]', ' ', p.clean(text))\n",
    "    return clean_text"
   ]
  },
  {
   "cell_type": "code",
   "execution_count": 6,
   "metadata": {},
   "outputs": [],
   "source": [
    "# Function: Get Tokens\n",
    "def get_tokens(data):\n",
    "    all_token_list = []\n",
    "    tt = TweetTokenizer()\n",
    "    for t in data['text']:\n",
    "        token = tt.tokenize(t)\n",
    "        all_token_list.append(token)\n",
    "    all_token = [item for sublist in all_token_list for item in sublist]\n",
    "    return all_token"
   ]
  },
  {
   "cell_type": "code",
   "execution_count": 8,
   "metadata": {},
   "outputs": [],
   "source": [
    "# Function: Get Vocabs\n",
    "def get_vocab(data):\n",
    "    # All punctuations, hashtag, urls and emojis are cleaned\n",
    "    all_vocab_list = []\n",
    "    for t in data['text']:\n",
    "        vocab = clean_tweet(t).split()\n",
    "        all_vocab_list.append(vocab)\n",
    "    all_vocab = [item for sublist in all_vocab_list for item in sublist]\n",
    "    return all_vocab"
   ]
  },
  {
   "cell_type": "code",
   "execution_count": 9,
   "metadata": {},
   "outputs": [],
   "source": [
    "# Function: Get N-Gram\n",
    "def get_ngrams_word(data):\n",
    "    ngram2s = []\n",
    "    ngram3s = []\n",
    "    ngram4s = []\n",
    "    ngram5s = []\n",
    "    for t in data['text']:\n",
    "        # clean emojis, smileys, mentions, punctuations & urls\n",
    "        clean_t = clean_tweet(t)\n",
    "        tokens = [token for token in clean_t.split(\" \") if token != \"\"]\n",
    "        ngram2s.append(list(ngrams(tokens, 2)))\n",
    "        ngram3s.append(list(ngrams(tokens, 3)))\n",
    "        ngram4s.append(list(ngrams(tokens, 4)))\n",
    "        ngram5s.append(list(ngrams(tokens, 5)))\n",
    "    return [ngram2s, ngram3s, ngram4s, ngram5s]"
   ]
  },
  {
   "cell_type": "code",
   "execution_count": 11,
   "metadata": {},
   "outputs": [],
   "source": [
    "# Function: Get ngram char\n",
    "def get_ngrams_char(data):\n",
    "    ngram2s = []\n",
    "    ngram3s = []\n",
    "    ngram4s = []\n",
    "    ngram5s = []\n",
    "    ngram6s = []\n",
    "    ngram7s = []\n",
    "    results = [ngram2s, ngram3s, ngram4s, ngram5s, ngram6s, ngram7s]\n",
    "    for t in data['text']:\n",
    "        # Clean emojis, smileys, mentions, punctuations & urls\n",
    "        clean_t = clean_tweet(t)\n",
    "        # Only consider if the ngram belongs to a word \n",
    "        for i in [2,3,4,5,6,7]:\n",
    "            n=i\n",
    "            result = results[i-2]\n",
    "            for token in clean_t.split(\" \"):\n",
    "                if token != \"\":\n",
    "                    ngram_c = [token[i:i+n] for i in range(len(token)-n+1) if i !=\"\"]\n",
    "                    if ngram_c != []:\n",
    "                        result.append(ngram_c)\n",
    "    return results"
   ]
  },
  {
   "cell_type": "markdown",
   "metadata": {},
   "source": [
    "### Explore Input Data"
   ]
  },
  {
   "cell_type": "code",
   "execution_count": 16,
   "metadata": {},
   "outputs": [],
   "source": [
    "# Load Input Data\n",
    "INPUT = load_data('P1_Data/Dev/INPUT.txt')"
   ]
  },
  {
   "cell_type": "code",
   "execution_count": 17,
   "metadata": {},
   "outputs": [
    {
     "data": {
      "text/plain": [
       "12284"
      ]
     },
     "execution_count": 17,
     "metadata": {},
     "output_type": "execute_result"
    }
   ],
   "source": [
    "# 1. Total Number of Tweets\n",
    "len(INPUT)"
   ]
  },
  {
   "cell_type": "code",
   "execution_count": 19,
   "metadata": {},
   "outputs": [
    {
     "data": {
      "text/plain": [
       "1344051"
      ]
     },
     "execution_count": 19,
     "metadata": {},
     "output_type": "execute_result"
    }
   ],
   "source": [
    "# 2. Total Number of Characters:\n",
    "sum(INPUT['text'].apply(lambda x:len(x)))"
   ]
  },
  {
   "cell_type": "code",
   "execution_count": 20,
   "metadata": {},
   "outputs": [
    {
     "data": {
      "text/plain": [
       "17540"
      ]
     },
     "execution_count": 20,
     "metadata": {},
     "output_type": "execute_result"
    }
   ],
   "source": [
    "# 3. Total Number of Distinct Words (Vocalbulary)\n",
    "# All punctuations, hashtag, urls and emojis are cleaned\n",
    "all_vocab_list = []\n",
    "for t in INPUT['text']:\n",
    "    vocab = clean_tweet(t).split()\n",
    "    all_vocab_list.append(vocab)\n",
    "all_vocab = [item for sublist in all_vocab_list for item in sublist]\n",
    "all_type = pd.unique(all_vocab)\n",
    "len(all_type)"
   ]
  },
  {
   "cell_type": "code",
   "execution_count": 21,
   "metadata": {},
   "outputs": [
    {
     "data": {
      "text/plain": [
       "109.41"
      ]
     },
     "execution_count": 21,
     "metadata": {},
     "output_type": "execute_result"
    }
   ],
   "source": [
    "# 4.1. The Average Number of Characters in Each Tweet\n",
    "round((INPUT['text'].apply(lambda x:len(x))).mean(),2)"
   ]
  },
  {
   "cell_type": "code",
   "execution_count": 23,
   "metadata": {},
   "outputs": [
    {
     "data": {
      "text/plain": [
       "13.66"
      ]
     },
     "execution_count": 23,
     "metadata": {},
     "output_type": "execute_result"
    }
   ],
   "source": [
    "# 4.2. The Average Number of Words in Each Tweet (Tweets Cleaned)\n",
    "round(INPUT['text'].apply(lambda x:len(clean_tweet(x).split())).mean(),2)"
   ]
  },
  {
   "cell_type": "code",
   "execution_count": 24,
   "metadata": {},
   "outputs": [
    {
     "data": {
      "text/plain": [
       "5.31"
      ]
     },
     "execution_count": 24,
     "metadata": {},
     "output_type": "execute_result"
    }
   ],
   "source": [
    "# 5.1. The Average Number of Characters per Token\n",
    "all_token = get_tokens(INPUT)\n",
    "round(np.mean(list(map(lambda x:len(x), all_token))),2)"
   ]
  },
  {
   "cell_type": "code",
   "execution_count": 25,
   "metadata": {},
   "outputs": [
    {
     "data": {
      "text/plain": [
       "4.69"
      ]
     },
     "execution_count": 25,
     "metadata": {},
     "output_type": "execute_result"
    }
   ],
   "source": [
    "# 5.2. The Standard Deviation of Characters per Token\n",
    "round(np.std(list(map(lambda x:len(x), all_token))),2)"
   ]
  },
  {
   "cell_type": "code",
   "execution_count": 26,
   "metadata": {},
   "outputs": [
    {
     "data": {
      "text/plain": [
       "[('the', 5747),\n",
       " ('to', 3803),\n",
       " ('a', 2964),\n",
       " ('of', 2599),\n",
       " ('and', 2468),\n",
       " ('in', 2285),\n",
       " ('is', 2249),\n",
       " ('s', 2218),\n",
       " ('i', 2205),\n",
       " ('for', 1950)]"
      ]
     },
     "execution_count": 26,
     "metadata": {},
     "output_type": "execute_result"
    }
   ],
   "source": [
    "# 6. Number of Token for Each of Top 10 Most Frequent Words (Types)\n",
    "Counter(all_vocab).most_common(10)"
   ]
  },
  {
   "cell_type": "code",
   "execution_count": 27,
   "metadata": {},
   "outputs": [
    {
     "data": {
      "text/plain": [
       "12.52"
      ]
     },
     "execution_count": 27,
     "metadata": {},
     "output_type": "execute_result"
    }
   ],
   "source": [
    "# 7. Token / Type Ratio\n",
    "round(len(all_token) / len(all_type),2)"
   ]
  },
  {
   "cell_type": "code",
   "execution_count": 33,
   "metadata": {},
   "outputs": [
    {
     "data": {
      "text/plain": [
       "94628"
      ]
     },
     "execution_count": 33,
     "metadata": {},
     "output_type": "execute_result"
    }
   ],
   "source": [
    "# 8. Number of N-grams (of words) for n = 2,3,4,5 \n",
    "num_unique_ngram = []\n",
    "for ngram_list in get_ngrams_word(INPUT):\n",
    "    flatlist = [item for sublist in ngram_list for item in sublist]\n",
    "    unique_ngram_list = np.unique (flatlist,axis=0)\n",
    "    num_unique_ngram.append(len(unique_ngram_list))\n",
    "# 8.1. Num of Distinct ngram word (n=2)\n",
    "num_unique_ngram[0]"
   ]
  },
  {
   "cell_type": "code",
   "execution_count": 34,
   "metadata": {},
   "outputs": [
    {
     "data": {
      "text/plain": [
       "128791"
      ]
     },
     "execution_count": 34,
     "metadata": {},
     "output_type": "execute_result"
    }
   ],
   "source": [
    "# 8.2. Num of Distinct ngram word (n=3)\n",
    "num_unique_ngram[1]"
   ]
  },
  {
   "cell_type": "code",
   "execution_count": 35,
   "metadata": {},
   "outputs": [
    {
     "data": {
      "text/plain": [
       "127755"
      ]
     },
     "execution_count": 35,
     "metadata": {},
     "output_type": "execute_result"
    }
   ],
   "source": [
    "# 8.3. Num of Distinct ngram word (n=4)\n",
    "num_unique_ngram[2]"
   ]
  },
  {
   "cell_type": "code",
   "execution_count": 36,
   "metadata": {},
   "outputs": [
    {
     "data": {
      "text/plain": [
       "118291"
      ]
     },
     "execution_count": 36,
     "metadata": {},
     "output_type": "execute_result"
    }
   ],
   "source": [
    "# 8.4. Num of Distinct ngram word (n=5)\n",
    "num_unique_ngram[3]"
   ]
  },
  {
   "cell_type": "code",
   "execution_count": 38,
   "metadata": {},
   "outputs": [
    {
     "data": {
      "text/plain": [
       "952"
      ]
     },
     "execution_count": 38,
     "metadata": {},
     "output_type": "execute_result"
    }
   ],
   "source": [
    "# 9. Number of Distinct N-grams (of char) for n = 2,3,4,5,6,7\n",
    "num_unique_ngram_c = []\n",
    "for ngram_list in get_ngrams_char(INPUT):\n",
    "    flatlist = [item for sublist in ngram_list for item in sublist]\n",
    "    unique_ngram_list = np.unique (flatlist,axis=0)\n",
    "    num_unique_ngram_c.append(len(unique_ngram_list))\n",
    "# 9.1. Num of Distinct ngram char (n=2)\n",
    "num_unique_ngram_c[0]"
   ]
  },
  {
   "cell_type": "code",
   "execution_count": 39,
   "metadata": {},
   "outputs": [
    {
     "data": {
      "text/plain": [
       "6417"
      ]
     },
     "execution_count": 39,
     "metadata": {},
     "output_type": "execute_result"
    }
   ],
   "source": [
    "# 9.2. Num of Distinct ngram char (n=3)\n",
    "num_unique_ngram_c[1]"
   ]
  },
  {
   "cell_type": "code",
   "execution_count": 40,
   "metadata": {},
   "outputs": [
    {
     "data": {
      "text/plain": [
       "18219"
      ]
     },
     "execution_count": 40,
     "metadata": {},
     "output_type": "execute_result"
    }
   ],
   "source": [
    "# 9.3. Num of Distinct ngram char (n=4)\n",
    "num_unique_ngram_c[2]"
   ]
  },
  {
   "cell_type": "code",
   "execution_count": 41,
   "metadata": {},
   "outputs": [
    {
     "data": {
      "text/plain": [
       "25248"
      ]
     },
     "execution_count": 41,
     "metadata": {},
     "output_type": "execute_result"
    }
   ],
   "source": [
    "# 9.4. Num of Distinct ngram char (n=5)\n",
    "num_unique_ngram_c[3]"
   ]
  },
  {
   "cell_type": "code",
   "execution_count": 42,
   "metadata": {},
   "outputs": [
    {
     "data": {
      "text/plain": [
       "23953"
      ]
     },
     "execution_count": 42,
     "metadata": {},
     "output_type": "execute_result"
    }
   ],
   "source": [
    "# 9.5. Num of Distinct ngram char (n=6)\n",
    "num_unique_ngram_c[4]"
   ]
  },
  {
   "cell_type": "code",
   "execution_count": 43,
   "metadata": {},
   "outputs": [
    {
     "data": {
      "text/plain": [
       "19056"
      ]
     },
     "execution_count": 43,
     "metadata": {},
     "output_type": "execute_result"
    }
   ],
   "source": [
    "# 9.6. Num of Distinct ngram char (n=7)\n",
    "num_unique_ngram_c[5]"
   ]
  },
  {
   "cell_type": "code",
   "execution_count": 50,
   "metadata": {},
   "outputs": [
    {
     "data": {
      "image/png": "[encoded data removed]",
      "text/plain": [
       "<Figure size 1040x640 with 1 Axes>"
      ]
     },
     "metadata": {
      "needs_background": "light"
     },
     "output_type": "display_data"
    }
   ],
   "source": [
    "# 10. Plot a token log frequency. \n",
    "# Describe what this plot means and how to interpret it. \n",
    "# Describe out it might help you understand coverage when training a model?\n",
    "stop_words = set(stopwords.words('english'))\n",
    "non_stop = []\n",
    "for v in all_vocab:\n",
    "    if v not in stop_words:\n",
    "        non_stop.append(v)\n",
    "lemmatizer = WordNetLemmatizer()\n",
    "all_lemma = []\n",
    "for v in non_stop:\n",
    "    lemma = lemmatizer.lemmatize(v)\n",
    "    all_lemma.append(lemma)\n",
    "all_lemma_cnt = dict(Counter(all_lemma))\n",
    "sort_lemma_cnt = sorted(all_lemma_cnt.items(), key = lambda x : x[1], reverse=True)\n",
    "sort_lemma_df = pd.DataFrame.from_dict(sort_lemma_cnt)\n",
    "sort_lemma_df.columns = [\"Word\", \"Count\"]\n",
    "\n",
    "fig = plt.figure(figsize=(13,8),dpi = 80)\n",
    "ax = fig.add_subplot(1, 1, 1)\n",
    "ax.plot(np.log(sort_lemma_df[\"Count\"]))\n",
    "ax.set_xlabel('Word Index (Sort by Frequency)', fontsize = 15)\n",
    "ax.set_ylabel('Token Frequency (Log Scale)', fontsize = 15)\n",
    "ax.set_title(\"Figure 1. Token Log Frequency\", fontsize = 25)\n",
    "# Figure 1: We removed stop words and lemmatized all the words. \n",
    "# The plot shows that the majority of words only occur once or twice. \n",
    "# Therefore we might remove these words when we train the model.\n",
    "plt.savefig(\"token log frequency.png\")"
   ]
  },
  {
   "cell_type": "markdown",
   "metadata": {},
   "source": [
    "### Explore Gold Data"
   ]
  },
  {
   "cell_type": "code",
   "execution_count": 47,
   "metadata": {},
   "outputs": [],
   "source": [
    "# Load Data Dev, Dev_Train, Dev_Test, test, input\n",
    "dev = load_data('P1_Data/Gold/dev.txt')\n",
    "dev_train = load_data('P1_Data/Gold/train.txt')\n",
    "dev_test = load_data('P1_Data/Gold/test.txt')\n",
    "devtest = load_data('P1_Data/Gold/devtest.txt')"
   ]
  },
  {
   "cell_type": "code",
   "execution_count": 48,
   "metadata": {},
   "outputs": [
    {
     "data": {
      "text/plain": [
       "2251"
      ]
     },
     "execution_count": 48,
     "metadata": {},
     "output_type": "execute_result"
    }
   ],
   "source": [
    "# 11. The number of types in the dev data but not in the training data (OOV).\n",
    "# Types in dev data\n",
    "all_type_dev = pd.unique(get_vocab(dev))\n",
    "# Types in train data\n",
    "all_type_train = pd.unique(get_vocab(dev_train))\n",
    "# Different types\n",
    "oov_list = list(set(all_type_dev).difference(set(all_type_train)))\n",
    "len(oov_list)"
   ]
  },
  {
   "cell_type": "code",
   "execution_count": 49,
   "metadata": {},
   "outputs": [
    {
     "data": {
      "image/png": "[encoded data removed]",
      "text/plain": [
       "<Figure size 1040x640 with 1 Axes>"
      ]
     },
     "metadata": {
      "needs_background": "light"
     },
     "output_type": "display_data"
    }
   ],
   "source": [
    "# 12. The vocabulary growth (types) Combinng four gold data sets against input data. \n",
    "# Types in INPUT data\n",
    "all_type_input = pd.unique(get_vocab(INPUT))\n",
    "# Types in test data\n",
    "all_type_test = pd.unique(get_vocab(dev_test))\n",
    "# Types in devtest data\n",
    "all_type_devtest = pd.unique(get_vocab(devtest))\n",
    "# The volcabulary growth at difference sample sizes N\n",
    "input_type_count = len(all_type_input)\n",
    "# Number of types in dev data\n",
    "gold_one_type_count = len(all_type_dev)\n",
    "# Number of types in dev+train data\n",
    "all_type_two = pd.unique(list(set(all_type_dev).union(set(all_type_train))))\n",
    "gold_two_type_count = len(all_type_two)\n",
    "# Number of types in dev+train+test data    \n",
    "all_type_three = pd.unique(list(set(all_type_dev).union(set(all_type_train)).union(set(all_type_test))))\n",
    "gold_three_type_count = len(all_type_three)\n",
    "# Number of types in dev+train+test+devtest data    \n",
    "all_type_four = pd.unique(list(set(all_type_dev).union(set(all_type_train)).union(set(all_type_test)).union(set(all_type_devtest))))\n",
    "gold_four_type_count = len(all_type_four)\n",
    "\n",
    "# Plot vocabulary growth at difference sample sizes N.\n",
    "len_INPUT = len(INPUT)\n",
    "len_dev = len(dev)\n",
    "len_dev_train = len(dev_train)\n",
    "len_dev_test = len(dev_test)\n",
    "len_devtest = len(devtest)\n",
    "type_count = [input_type_count, gold_one_type_count, gold_two_type_count,gold_three_type_count, gold_four_type_count]\n",
    "sample_size_label = [str(len_INPUT)+\"\\n\"+\"(INPUT)\",str(len_dev)+\"\\n\"+\"(dev)\",\n",
    "                         str(len_dev+len_dev_train)+\"\\n\"+\"(dev+train)\",\n",
    "                         str(len_dev+len_dev_train+len_dev_test)\n",
    "                         +\"\\n\"+\"(dev+train+test)\",\n",
    "                         str(len_dev+len_dev_train+len_dev_test+len_devtest)\n",
    "                         +\"\\n\"+\"(dev+train+test\"+\"\\n\"+\"+devtest)\"]\n",
    "fig = plt.figure(figsize=(13,8),dpi = 80)\n",
    "ax = fig.add_subplot(1,1,1)\n",
    "ax.barh(range(len(type_count)),type_count,color='lightblue',tick_label=sample_size_label)\n",
    "#pl.xticks(rotation=90)\n",
    "for i ,v in enumerate(type_count):\n",
    "    ax.text(v, i, str(int(type_count[i])), color='blue', fontweight='bold')\n",
    "ax.set_title('Figure 2. The volcabulary growth at difference sample sizes N',fontsize=25)\n",
    "ax.set_ylabel('Sample size', fontsize = 15)\n",
    "ax.set_xlabel('Number of types', fontsize = 15)\n",
    "# Figure 2\n",
    "plt.savefig('volcabulary growth.png')\n"
   ]
  },
  {
   "cell_type": "code",
   "execution_count": 51,
   "metadata": {},
   "outputs": [
    {
     "data": {
      "text/plain": [
       "3094"
      ]
     },
     "execution_count": 51,
     "metadata": {},
     "output_type": "execute_result"
    }
   ],
   "source": [
    "# 13. The class distribution of the training data set\n",
    "count_train_positive = dev_train['label'][dev_train['label']=='positive'].count()\n",
    "count_train_negative = dev_train['label'][dev_train['label']=='negative'].count()\n",
    "count_train_neutral = dev_train['label'][dev_train['label']=='neutral'].count()\n",
    "# 13.1 Num of positive tweets in the training set\n",
    "count_train_positive"
   ]
  },
  {
   "cell_type": "code",
   "execution_count": 52,
   "metadata": {},
   "outputs": [
    {
     "data": {
      "text/plain": [
       "863"
      ]
     },
     "execution_count": 52,
     "metadata": {},
     "output_type": "execute_result"
    }
   ],
   "source": [
    "# 13.2 Num of negative tweets in the training set\n",
    "count_train_negative"
   ]
  },
  {
   "cell_type": "code",
   "execution_count": 53,
   "metadata": {},
   "outputs": [
    {
     "data": {
      "text/plain": [
       "2043"
      ]
     },
     "execution_count": 53,
     "metadata": {},
     "output_type": "execute_result"
    }
   ],
   "source": [
    "# 13.3 Num of neutral tweets in the training set\n",
    "count_train_neutral"
   ]
  },
  {
   "cell_type": "code",
   "execution_count": 54,
   "metadata": {},
   "outputs": [],
   "source": [
    "# 14. The difference between the top word types across these three classes.\n",
    "all_vocab_train = {}\n",
    "for i in ['positive', 'negative', 'neutral']:\n",
    "    all_vocab_list = []\n",
    "    for t in dev_train['text'][dev_train['label']==i]:\n",
    "        vocab = clean_tweet(t).split()\n",
    "        all_vocab_list.append(vocab)\n",
    "    all_vocab = [item for sublist in all_vocab_list for item in sublist]\n",
    "    all_vocab_train[i]=all_vocab\n",
    "train_positive_types = Counter(all_vocab_train['positive']).most_common(100)\n",
    "train_negative_types = Counter(all_vocab_train['negative']).most_common(100)\n",
    "train_neutral_types = Counter(all_vocab_train['neutral']).most_common(100)"
   ]
  },
  {
   "cell_type": "markdown",
   "metadata": {},
   "source": [
    "#### 14.1 Positive top word types\n",
    "Positive top word types such as 'good', 'best', 'great' ,'love', 'happy' directly point to the positive side; 'friday', 'saturday' and 'sunday' represent the happy weekend time; \n",
    "'game', 'birthday', 'church' represent some scenes with joy and relax. "
   ]
  },
  {
   "cell_type": "markdown",
   "metadata": {},
   "source": [
    "#### 14.2 Negative top word types\n",
    "Negative top word types such as 'don', 'no' directly point to the negative side; 'trump', 'donald', 'bush', 'hillary' point to some politicians. "
   ]
  },
  {
   "cell_type": "markdown",
   "metadata": {},
   "source": [
    "#### 14.3 Neutral top word types\n",
    "Neutral top word types are kind of at the 'middle' of positive and negative word types."
   ]
  },
  {
   "cell_type": "code",
   "execution_count": 57,
   "metadata": {},
   "outputs": [],
   "source": [
    "# 15. What words are particularly characteristic of your training set and dev set? \n",
    "# Are they the same?\n",
    "train_types = Counter(get_vocab(dev_train)).most_common(150)\n",
    "dev_types = Counter(get_vocab(dev)).most_common(150)"
   ]
  },
  {
   "cell_type": "markdown",
   "metadata": {},
   "source": [
    "#### 15.1 Training set characteristic words:\n",
    "'amazon', 'apple', 'google', 'game', 'sun', 'best', 'good', 'trump', 'galaxy', 'biden', 'lexus', 'arsenal'"
   ]
  },
  {
   "cell_type": "markdown",
   "metadata": {},
   "source": [
    "#### 15.2 Dev set characteristic words:\n",
    "'serena', 'minecraft', 'nike', 'oracle', 'snoop', 'pride', 'parade', 'netflix', 'monsanto', 'nintendo'"
   ]
  },
  {
   "cell_type": "markdown",
   "metadata": {},
   "source": [
    "#### 15.3 Differences\n",
    "It seems that training set contains more politician related words while dev set contains more game and entertainment related words."
   ]
  },
  {
   "cell_type": "markdown",
   "metadata": {},
   "source": [
    "## TASK 2:  Message Polarity Classification"
   ]
  },
  {
   "cell_type": "code",
   "execution_count": null,
   "metadata": {},
   "outputs": [],
   "source": [
    "### Data Preprocessing\n"
   ]
  }
 ],
 "metadata": {
  "kernelspec": {
   "display_name": "Python 3",
   "language": "python",
   "name": "python3"
  },
  "language_info": {
   "codemirror_mode": {
    "name": "ipython",
    "version": 3
   },
   "file_extension": ".py",
   "mimetype": "text/x-python",
   "name": "python",
   "nbconvert_exporter": "python",
   "pygments_lexer": "ipython3",
   "version": "3.6.7"
  }
 },
 "nbformat": 4,
 "nbformat_minor": 2
}
